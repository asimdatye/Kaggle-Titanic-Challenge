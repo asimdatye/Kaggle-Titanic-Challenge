{
 "cells": [
  {
   "cell_type": "code",
   "execution_count": 1,
   "metadata": {},
   "outputs": [
    {
     "name": "stdout",
     "output_type": "stream",
     "text": [
      "gender_submission.csv: Skipping, found more recently modified local copy (use --force to force download)\n",
      "train.csv: Skipping, found more recently modified local copy (use --force to force download)\n",
      "test.csv: Skipping, found more recently modified local copy (use --force to force download)\n"
     ]
    }
   ],
   "source": [
    "import warnings\n",
    "warnings.simplefilter(action='ignore', category=FutureWarning)\n",
    "warnings.filterwarnings('ignore')\n",
    "\n",
    "import os\n",
    "import pandas as pd\n",
    "import numpy as np\n",
    "from plotnine import *\n",
    "import seaborn as sns\n",
    "import matplotlib.pyplot as plt\n",
    "import kaggle\n",
    "import pandas\n",
    "import tableone\n",
    "from tableone import TableOne, load_dataset\n",
    "import scipy\n",
    "from scipy.stats import chi2_contingency\n",
    "\n",
    "from kaggle.api.kaggle_api_extended import KaggleApi\n",
    "\n",
    "api = KaggleApi()\n",
    "api.authenticate()\n",
    "\n",
    "# downloading from kaggle.com/c/sentiment-analysis-on-movie-reviews\n",
    "# there are two files, train.tsv.zip and test.tsv.zip\n",
    "# we write to the current directory with './'\n",
    "api.competition_download_file('titanic',\n",
    "                              'gender_submission.csv', path='./data/')\n",
    "api.competition_download_file('titanic',\n",
    "                              'train.csv', path='./data/')\n",
    "api.competition_download_file('titanic',\n",
    "                              'test.csv', path='./data/')\n",
    "\n",
    "df_train = pd.read_csv('data/train.csv')\n",
    "df_test = pd.read_csv('data/test.csv')\n"
   ]
  },
  {
   "cell_type": "code",
   "execution_count": 2,
   "metadata": {},
   "outputs": [
    {
     "data": {
      "text/html": [
       "<div>\n",
       "<style scoped>\n",
       "    .dataframe tbody tr th:only-of-type {\n",
       "        vertical-align: middle;\n",
       "    }\n",
       "\n",
       "    .dataframe tbody tr th {\n",
       "        vertical-align: top;\n",
       "    }\n",
       "\n",
       "    .dataframe thead th {\n",
       "        text-align: right;\n",
       "    }\n",
       "</style>\n",
       "<table border=\"1\" class=\"dataframe\">\n",
       "  <thead>\n",
       "    <tr style=\"text-align: right;\">\n",
       "      <th></th>\n",
       "      <th>PassengerId</th>\n",
       "      <th>Survived</th>\n",
       "      <th>Pclass</th>\n",
       "      <th>Name</th>\n",
       "      <th>Sex</th>\n",
       "      <th>Age</th>\n",
       "      <th>SibSp</th>\n",
       "      <th>Parch</th>\n",
       "      <th>Ticket</th>\n",
       "      <th>Fare</th>\n",
       "      <th>Cabin</th>\n",
       "      <th>Embarked</th>\n",
       "    </tr>\n",
       "  </thead>\n",
       "  <tbody>\n",
       "    <tr>\n",
       "      <th>0</th>\n",
       "      <td>1</td>\n",
       "      <td>0</td>\n",
       "      <td>3</td>\n",
       "      <td>Braund, Mr. Owen Harris</td>\n",
       "      <td>male</td>\n",
       "      <td>22.0</td>\n",
       "      <td>1</td>\n",
       "      <td>0</td>\n",
       "      <td>A/5 21171</td>\n",
       "      <td>7.2500</td>\n",
       "      <td>NaN</td>\n",
       "      <td>S</td>\n",
       "    </tr>\n",
       "    <tr>\n",
       "      <th>1</th>\n",
       "      <td>2</td>\n",
       "      <td>1</td>\n",
       "      <td>1</td>\n",
       "      <td>Cumings, Mrs. John Bradley (Florence Briggs Th...</td>\n",
       "      <td>female</td>\n",
       "      <td>38.0</td>\n",
       "      <td>1</td>\n",
       "      <td>0</td>\n",
       "      <td>PC 17599</td>\n",
       "      <td>71.2833</td>\n",
       "      <td>C85</td>\n",
       "      <td>C</td>\n",
       "    </tr>\n",
       "    <tr>\n",
       "      <th>2</th>\n",
       "      <td>3</td>\n",
       "      <td>1</td>\n",
       "      <td>3</td>\n",
       "      <td>Heikkinen, Miss. Laina</td>\n",
       "      <td>female</td>\n",
       "      <td>26.0</td>\n",
       "      <td>0</td>\n",
       "      <td>0</td>\n",
       "      <td>STON/O2. 3101282</td>\n",
       "      <td>7.9250</td>\n",
       "      <td>NaN</td>\n",
       "      <td>S</td>\n",
       "    </tr>\n",
       "    <tr>\n",
       "      <th>3</th>\n",
       "      <td>4</td>\n",
       "      <td>1</td>\n",
       "      <td>1</td>\n",
       "      <td>Futrelle, Mrs. Jacques Heath (Lily May Peel)</td>\n",
       "      <td>female</td>\n",
       "      <td>35.0</td>\n",
       "      <td>1</td>\n",
       "      <td>0</td>\n",
       "      <td>113803</td>\n",
       "      <td>53.1000</td>\n",
       "      <td>C123</td>\n",
       "      <td>S</td>\n",
       "    </tr>\n",
       "    <tr>\n",
       "      <th>4</th>\n",
       "      <td>5</td>\n",
       "      <td>0</td>\n",
       "      <td>3</td>\n",
       "      <td>Allen, Mr. William Henry</td>\n",
       "      <td>male</td>\n",
       "      <td>35.0</td>\n",
       "      <td>0</td>\n",
       "      <td>0</td>\n",
       "      <td>373450</td>\n",
       "      <td>8.0500</td>\n",
       "      <td>NaN</td>\n",
       "      <td>S</td>\n",
       "    </tr>\n",
       "  </tbody>\n",
       "</table>\n",
       "</div>"
      ],
      "text/plain": [
       "   PassengerId  Survived  Pclass  \\\n",
       "0            1         0       3   \n",
       "1            2         1       1   \n",
       "2            3         1       3   \n",
       "3            4         1       1   \n",
       "4            5         0       3   \n",
       "\n",
       "                                                Name     Sex   Age  SibSp  \\\n",
       "0                            Braund, Mr. Owen Harris    male  22.0      1   \n",
       "1  Cumings, Mrs. John Bradley (Florence Briggs Th...  female  38.0      1   \n",
       "2                             Heikkinen, Miss. Laina  female  26.0      0   \n",
       "3       Futrelle, Mrs. Jacques Heath (Lily May Peel)  female  35.0      1   \n",
       "4                           Allen, Mr. William Henry    male  35.0      0   \n",
       "\n",
       "   Parch            Ticket     Fare Cabin Embarked  \n",
       "0      0         A/5 21171   7.2500   NaN        S  \n",
       "1      0          PC 17599  71.2833   C85        C  \n",
       "2      0  STON/O2. 3101282   7.9250   NaN        S  \n",
       "3      0            113803  53.1000  C123        S  \n",
       "4      0            373450   8.0500   NaN        S  "
      ]
     },
     "execution_count": 2,
     "metadata": {},
     "output_type": "execute_result"
    }
   ],
   "source": [
    "pd.DataFrame.head(df_train)"
   ]
  },
  {
   "cell_type": "code",
   "execution_count": 3,
   "metadata": {},
   "outputs": [
    {
     "data": {
      "text/plain": [
       "PassengerId      int64\n",
       "Survived         int64\n",
       "Pclass           int64\n",
       "Name            object\n",
       "Sex             object\n",
       "Age            float64\n",
       "SibSp            int64\n",
       "Parch            int64\n",
       "Ticket          object\n",
       "Fare           float64\n",
       "Cabin           object\n",
       "Embarked        object\n",
       "dtype: object"
      ]
     },
     "execution_count": 3,
     "metadata": {},
     "output_type": "execute_result"
    }
   ],
   "source": [
    "df_train.dtypes"
   ]
  },
  {
   "cell_type": "code",
   "execution_count": 4,
   "metadata": {},
   "outputs": [],
   "source": [
    "# We can define a new variable as family size\n",
    "\n",
    "df_train[\"Family\"] = df_train[\"SibSp\"] + df_train[\"Parch\"]"
   ]
  },
  {
   "cell_type": "code",
   "execution_count": 5,
   "metadata": {},
   "outputs": [
    {
     "data": {
      "text/html": [
       "<div>\n",
       "<style scoped>\n",
       "    .dataframe tbody tr th:only-of-type {\n",
       "        vertical-align: middle;\n",
       "    }\n",
       "\n",
       "    .dataframe tbody tr th {\n",
       "        vertical-align: top;\n",
       "    }\n",
       "\n",
       "    .dataframe thead th {\n",
       "        text-align: right;\n",
       "    }\n",
       "</style>\n",
       "<table border=\"1\" class=\"dataframe\">\n",
       "  <thead>\n",
       "    <tr style=\"text-align: right;\">\n",
       "      <th></th>\n",
       "      <th></th>\n",
       "      <th>Missing</th>\n",
       "      <th>Overall</th>\n",
       "    </tr>\n",
       "  </thead>\n",
       "  <tbody>\n",
       "    <tr>\n",
       "      <th>n</th>\n",
       "      <th></th>\n",
       "      <td></td>\n",
       "      <td>891</td>\n",
       "    </tr>\n",
       "    <tr>\n",
       "      <th rowspan=\"3\" valign=\"top\">Pclass, n (%)</th>\n",
       "      <th>1</th>\n",
       "      <td>0</td>\n",
       "      <td>216 (24.2)</td>\n",
       "    </tr>\n",
       "    <tr>\n",
       "      <th>2</th>\n",
       "      <td></td>\n",
       "      <td>184 (20.7)</td>\n",
       "    </tr>\n",
       "    <tr>\n",
       "      <th>3</th>\n",
       "      <td></td>\n",
       "      <td>491 (55.1)</td>\n",
       "    </tr>\n",
       "    <tr>\n",
       "      <th rowspan=\"2\" valign=\"top\">Sex, n (%)</th>\n",
       "      <th>female</th>\n",
       "      <td>0</td>\n",
       "      <td>314 (35.2)</td>\n",
       "    </tr>\n",
       "    <tr>\n",
       "      <th>male</th>\n",
       "      <td></td>\n",
       "      <td>577 (64.8)</td>\n",
       "    </tr>\n",
       "    <tr>\n",
       "      <th>Age, mean (SD)</th>\n",
       "      <th></th>\n",
       "      <td>177</td>\n",
       "      <td>29.7 (14.5)</td>\n",
       "    </tr>\n",
       "    <tr>\n",
       "      <th rowspan=\"7\" valign=\"top\">SibSp, n (%)</th>\n",
       "      <th>0</th>\n",
       "      <td>0</td>\n",
       "      <td>608 (68.2)</td>\n",
       "    </tr>\n",
       "    <tr>\n",
       "      <th>1</th>\n",
       "      <td></td>\n",
       "      <td>209 (23.5)</td>\n",
       "    </tr>\n",
       "    <tr>\n",
       "      <th>2</th>\n",
       "      <td></td>\n",
       "      <td>28 (3.1)</td>\n",
       "    </tr>\n",
       "    <tr>\n",
       "      <th>3</th>\n",
       "      <td></td>\n",
       "      <td>16 (1.8)</td>\n",
       "    </tr>\n",
       "    <tr>\n",
       "      <th>4</th>\n",
       "      <td></td>\n",
       "      <td>18 (2.0)</td>\n",
       "    </tr>\n",
       "    <tr>\n",
       "      <th>5</th>\n",
       "      <td></td>\n",
       "      <td>5 (0.6)</td>\n",
       "    </tr>\n",
       "    <tr>\n",
       "      <th>8</th>\n",
       "      <td></td>\n",
       "      <td>7 (0.8)</td>\n",
       "    </tr>\n",
       "    <tr>\n",
       "      <th rowspan=\"7\" valign=\"top\">Parch, n (%)</th>\n",
       "      <th>0</th>\n",
       "      <td>0</td>\n",
       "      <td>678 (76.1)</td>\n",
       "    </tr>\n",
       "    <tr>\n",
       "      <th>1</th>\n",
       "      <td></td>\n",
       "      <td>118 (13.2)</td>\n",
       "    </tr>\n",
       "    <tr>\n",
       "      <th>2</th>\n",
       "      <td></td>\n",
       "      <td>80 (9.0)</td>\n",
       "    </tr>\n",
       "    <tr>\n",
       "      <th>3</th>\n",
       "      <td></td>\n",
       "      <td>5 (0.6)</td>\n",
       "    </tr>\n",
       "    <tr>\n",
       "      <th>4</th>\n",
       "      <td></td>\n",
       "      <td>4 (0.4)</td>\n",
       "    </tr>\n",
       "    <tr>\n",
       "      <th>5</th>\n",
       "      <td></td>\n",
       "      <td>5 (0.6)</td>\n",
       "    </tr>\n",
       "    <tr>\n",
       "      <th>6</th>\n",
       "      <td></td>\n",
       "      <td>1 (0.1)</td>\n",
       "    </tr>\n",
       "    <tr>\n",
       "      <th>Fare, mean (SD)</th>\n",
       "      <th></th>\n",
       "      <td>0</td>\n",
       "      <td>32.2 (49.7)</td>\n",
       "    </tr>\n",
       "    <tr>\n",
       "      <th rowspan=\"3\" valign=\"top\">Embarked, n (%)</th>\n",
       "      <th>C</th>\n",
       "      <td>2</td>\n",
       "      <td>168 (18.9)</td>\n",
       "    </tr>\n",
       "    <tr>\n",
       "      <th>Q</th>\n",
       "      <td></td>\n",
       "      <td>77 (8.7)</td>\n",
       "    </tr>\n",
       "    <tr>\n",
       "      <th>S</th>\n",
       "      <td></td>\n",
       "      <td>644 (72.4)</td>\n",
       "    </tr>\n",
       "    <tr>\n",
       "      <th>Family, mean (SD)</th>\n",
       "      <th></th>\n",
       "      <td>0</td>\n",
       "      <td>0.9 (1.6)</td>\n",
       "    </tr>\n",
       "  </tbody>\n",
       "</table>\n",
       "</div><br />[1] Hartigan's Dip Test reports possible\n",
       "                                  multimodal distributions for: Age, Fare, Family.<br />[2] Normality test reports non-normal\n",
       "                                  distributions for: Age, Fare, Family.<br />[3] Tukey test indicates far outliers\n",
       "                                  in: Fare, Family.<br />"
      ],
      "text/plain": [
       "                         Missing      Overall\n",
       "n                                         891\n",
       "Pclass, n (%)     1            0   216 (24.2)\n",
       "                  2                184 (20.7)\n",
       "                  3                491 (55.1)\n",
       "Sex, n (%)        female       0   314 (35.2)\n",
       "                  male             577 (64.8)\n",
       "Age, mean (SD)               177  29.7 (14.5)\n",
       "SibSp, n (%)      0            0   608 (68.2)\n",
       "                  1                209 (23.5)\n",
       "                  2                  28 (3.1)\n",
       "                  3                  16 (1.8)\n",
       "                  4                  18 (2.0)\n",
       "                  5                   5 (0.6)\n",
       "                  8                   7 (0.8)\n",
       "Parch, n (%)      0            0   678 (76.1)\n",
       "                  1                118 (13.2)\n",
       "                  2                  80 (9.0)\n",
       "                  3                   5 (0.6)\n",
       "                  4                   4 (0.4)\n",
       "                  5                   5 (0.6)\n",
       "                  6                   1 (0.1)\n",
       "Fare, mean (SD)                0  32.2 (49.7)\n",
       "Embarked, n (%)   C            2   168 (18.9)\n",
       "                  Q                  77 (8.7)\n",
       "                  S                644 (72.4)\n",
       "Family, mean (SD)              0    0.9 (1.6)\n",
       "[1] Hartigan's Dip Test reports possible\n",
       "                                  multimodal distributions for: Age, Fare, Family.\n",
       "[2] Normality test reports non-normal\n",
       "                                  distributions for: Age, Fare, Family.\n",
       "[3] Tukey test indicates far outliers\n",
       "                                  in: Fare, Family."
      ]
     },
     "execution_count": 5,
     "metadata": {},
     "output_type": "execute_result"
    }
   ],
   "source": [
    "categorical = ['Parch', 'SibSp', 'Sex', 'Embarked', 'Pclass']\n",
    "\n",
    "table1 = TableOne(df_train.drop(['Name', 'Ticket', 'Cabin', 'PassengerId', 'Survived'], axis = 1), dip_test=True, normal_test=True, tukey_test=True, categorical = categorical)\n",
    "table1"
   ]
  },
  {
   "cell_type": "markdown",
   "metadata": {},
   "source": [
    "## Adressing the warnings of Hartigan's Dip, Normality and Tukey Test"
   ]
  },
  {
   "cell_type": "code",
   "execution_count": 6,
   "metadata": {},
   "outputs": [
    {
     "data": {
      "text/plain": [
       "(-25.0, 200.0)"
      ]
     },
     "execution_count": 6,
     "metadata": {},
     "output_type": "execute_result"
    },
    {
     "data": {
      "image/png": "[encoded data removed]",
      "text/plain": [
       "<Figure size 864x576 with 1 Axes>"
      ]
     },
     "metadata": {
      "needs_background": "light"
     },
     "output_type": "display_data"
    }
   ],
   "source": [
    "df_train[['Fare', 'Age']].dropna().plot.kde(figsize=[12,8])\n",
    "plt.legend(['Fare ($)', 'Age (years)'])\n",
    "plt.xlim([-25, 200])"
   ]
  },
  {
   "cell_type": "code",
   "execution_count": 7,
   "metadata": {},
   "outputs": [
    {
     "data": {
      "text/plain": [
       "(-10.0, 15.0)"
      ]
     },
     "execution_count": 7,
     "metadata": {},
     "output_type": "execute_result"
    },
    {
     "data": {
      "image/png": "[encoded data removed]",
      "text/plain": [
       "<Figure size 864x576 with 1 Axes>"
      ]
     },
     "metadata": {
      "needs_background": "light"
     },
     "output_type": "display_data"
    }
   ],
   "source": [
    "df_train[['Family']].dropna().plot.kde(figsize=[12,8])\n",
    "plt.legend(['Family'])\n",
    "plt.xlim([-10, 15])"
   ]
  },
  {
   "cell_type": "markdown",
   "metadata": {},
   "source": [
    "For Fare:\n",
    "* There is a slight concentration of values around the $75 mark however, this is not large enough to qualify it as a bimodal distribution.\n",
    "* The distribution is not normal since it has a sizeable right tail. \n",
    "* As Tukey's test indicates, there are outliers in fare which contribute to non-normality; this is shown wherein the range of fare is [0, 512]. This may violate some assumptions of predictor normality in model development.\n",
    "\n",
    "For Age:\n",
    "* There is a definite concentration of values between 0-10 years of age. This suggests that there was a sizeable proportion of passengers who were children, making Age a bimodal distribution instead of normal.\n",
    "* This may contribute to issues in models that assume normal distributions for predictors, particularly Age.\n",
    "\n",
    "For Family:\n",
    "* It is clearly a non-normal distribution (since the variable is discrete - this may be why). There are multiple modes at 0, 3, 5 and 10. \n",
    "* This may violate assumptions of normality."
   ]
  },
  {
   "cell_type": "code",
   "execution_count": 8,
   "metadata": {},
   "outputs": [
    {
     "data": {
      "text/html": [
       "<div>\n",
       "<style scoped>\n",
       "    .dataframe tbody tr th:only-of-type {\n",
       "        vertical-align: middle;\n",
       "    }\n",
       "\n",
       "    .dataframe tbody tr th {\n",
       "        vertical-align: top;\n",
       "    }\n",
       "\n",
       "    .dataframe thead tr th {\n",
       "        text-align: left;\n",
       "    }\n",
       "</style>\n",
       "<table border=\"1\" class=\"dataframe\">\n",
       "  <thead>\n",
       "    <tr>\n",
       "      <th></th>\n",
       "      <th></th>\n",
       "      <th colspan=\"4\" halign=\"left\">Grouped by Survived</th>\n",
       "    </tr>\n",
       "    <tr>\n",
       "      <th></th>\n",
       "      <th></th>\n",
       "      <th>Missing</th>\n",
       "      <th>Overall</th>\n",
       "      <th>0</th>\n",
       "      <th>1</th>\n",
       "    </tr>\n",
       "  </thead>\n",
       "  <tbody>\n",
       "    <tr>\n",
       "      <th>n</th>\n",
       "      <th></th>\n",
       "      <td></td>\n",
       "      <td>891</td>\n",
       "      <td>549</td>\n",
       "      <td>342</td>\n",
       "    </tr>\n",
       "    <tr>\n",
       "      <th rowspan=\"3\" valign=\"top\">Pclass, n (%)</th>\n",
       "      <th>1</th>\n",
       "      <td>0</td>\n",
       "      <td>216 (24.2)</td>\n",
       "      <td>80 (14.6)</td>\n",
       "      <td>136 (39.8)</td>\n",
       "    </tr>\n",
       "    <tr>\n",
       "      <th>2</th>\n",
       "      <td></td>\n",
       "      <td>184 (20.7)</td>\n",
       "      <td>97 (17.7)</td>\n",
       "      <td>87 (25.4)</td>\n",
       "    </tr>\n",
       "    <tr>\n",
       "      <th>3</th>\n",
       "      <td></td>\n",
       "      <td>491 (55.1)</td>\n",
       "      <td>372 (67.8)</td>\n",
       "      <td>119 (34.8)</td>\n",
       "    </tr>\n",
       "    <tr>\n",
       "      <th rowspan=\"2\" valign=\"top\">Sex, n (%)</th>\n",
       "      <th>female</th>\n",
       "      <td>0</td>\n",
       "      <td>314 (35.2)</td>\n",
       "      <td>81 (14.8)</td>\n",
       "      <td>233 (68.1)</td>\n",
       "    </tr>\n",
       "    <tr>\n",
       "      <th>male</th>\n",
       "      <td></td>\n",
       "      <td>577 (64.8)</td>\n",
       "      <td>468 (85.2)</td>\n",
       "      <td>109 (31.9)</td>\n",
       "    </tr>\n",
       "    <tr>\n",
       "      <th>Age, median [Q1,Q3]</th>\n",
       "      <th></th>\n",
       "      <td>177</td>\n",
       "      <td>28.0 [20.1,38.0]</td>\n",
       "      <td>28.0 [21.0,39.0]</td>\n",
       "      <td>28.0 [19.0,36.0]</td>\n",
       "    </tr>\n",
       "    <tr>\n",
       "      <th rowspan=\"7\" valign=\"top\">SibSp, n (%)</th>\n",
       "      <th>0</th>\n",
       "      <td>0</td>\n",
       "      <td>608 (68.2)</td>\n",
       "      <td>398 (72.5)</td>\n",
       "      <td>210 (61.4)</td>\n",
       "    </tr>\n",
       "    <tr>\n",
       "      <th>1</th>\n",
       "      <td></td>\n",
       "      <td>209 (23.5)</td>\n",
       "      <td>97 (17.7)</td>\n",
       "      <td>112 (32.7)</td>\n",
       "    </tr>\n",
       "    <tr>\n",
       "      <th>2</th>\n",
       "      <td></td>\n",
       "      <td>28 (3.1)</td>\n",
       "      <td>15 (2.7)</td>\n",
       "      <td>13 (3.8)</td>\n",
       "    </tr>\n",
       "    <tr>\n",
       "      <th>3</th>\n",
       "      <td></td>\n",
       "      <td>16 (1.8)</td>\n",
       "      <td>12 (2.2)</td>\n",
       "      <td>4 (1.2)</td>\n",
       "    </tr>\n",
       "    <tr>\n",
       "      <th>4</th>\n",
       "      <td></td>\n",
       "      <td>18 (2.0)</td>\n",
       "      <td>15 (2.7)</td>\n",
       "      <td>3 (0.9)</td>\n",
       "    </tr>\n",
       "    <tr>\n",
       "      <th>5</th>\n",
       "      <td></td>\n",
       "      <td>5 (0.6)</td>\n",
       "      <td>5 (0.9)</td>\n",
       "      <td></td>\n",
       "    </tr>\n",
       "    <tr>\n",
       "      <th>8</th>\n",
       "      <td></td>\n",
       "      <td>7 (0.8)</td>\n",
       "      <td>7 (1.3)</td>\n",
       "      <td></td>\n",
       "    </tr>\n",
       "    <tr>\n",
       "      <th rowspan=\"7\" valign=\"top\">Parch, n (%)</th>\n",
       "      <th>0</th>\n",
       "      <td>0</td>\n",
       "      <td>678 (76.1)</td>\n",
       "      <td>445 (81.1)</td>\n",
       "      <td>233 (68.1)</td>\n",
       "    </tr>\n",
       "    <tr>\n",
       "      <th>1</th>\n",
       "      <td></td>\n",
       "      <td>118 (13.2)</td>\n",
       "      <td>53 (9.7)</td>\n",
       "      <td>65 (19.0)</td>\n",
       "    </tr>\n",
       "    <tr>\n",
       "      <th>2</th>\n",
       "      <td></td>\n",
       "      <td>80 (9.0)</td>\n",
       "      <td>40 (7.3)</td>\n",
       "      <td>40 (11.7)</td>\n",
       "    </tr>\n",
       "    <tr>\n",
       "      <th>3</th>\n",
       "      <td></td>\n",
       "      <td>5 (0.6)</td>\n",
       "      <td>2 (0.4)</td>\n",
       "      <td>3 (0.9)</td>\n",
       "    </tr>\n",
       "    <tr>\n",
       "      <th>4</th>\n",
       "      <td></td>\n",
       "      <td>4 (0.4)</td>\n",
       "      <td>4 (0.7)</td>\n",
       "      <td></td>\n",
       "    </tr>\n",
       "    <tr>\n",
       "      <th>5</th>\n",
       "      <td></td>\n",
       "      <td>5 (0.6)</td>\n",
       "      <td>4 (0.7)</td>\n",
       "      <td>1 (0.3)</td>\n",
       "    </tr>\n",
       "    <tr>\n",
       "      <th>6</th>\n",
       "      <td></td>\n",
       "      <td>1 (0.1)</td>\n",
       "      <td>1 (0.2)</td>\n",
       "      <td></td>\n",
       "    </tr>\n",
       "    <tr>\n",
       "      <th>Fare, median [Q1,Q3]</th>\n",
       "      <th></th>\n",
       "      <td>0</td>\n",
       "      <td>14.5 [7.9,31.0]</td>\n",
       "      <td>10.5 [7.9,26.0]</td>\n",
       "      <td>26.0 [12.5,57.0]</td>\n",
       "    </tr>\n",
       "    <tr>\n",
       "      <th rowspan=\"3\" valign=\"top\">Embarked, n (%)</th>\n",
       "      <th>C</th>\n",
       "      <td>2</td>\n",
       "      <td>168 (18.9)</td>\n",
       "      <td>75 (13.7)</td>\n",
       "      <td>93 (27.4)</td>\n",
       "    </tr>\n",
       "    <tr>\n",
       "      <th>Q</th>\n",
       "      <td></td>\n",
       "      <td>77 (8.7)</td>\n",
       "      <td>47 (8.6)</td>\n",
       "      <td>30 (8.8)</td>\n",
       "    </tr>\n",
       "    <tr>\n",
       "      <th>S</th>\n",
       "      <td></td>\n",
       "      <td>644 (72.4)</td>\n",
       "      <td>427 (77.8)</td>\n",
       "      <td>217 (63.8)</td>\n",
       "    </tr>\n",
       "    <tr>\n",
       "      <th>Family, mean (SD)</th>\n",
       "      <th></th>\n",
       "      <td>0</td>\n",
       "      <td>0.9 (1.6)</td>\n",
       "      <td>0.9 (1.8)</td>\n",
       "      <td>0.9 (1.2)</td>\n",
       "    </tr>\n",
       "  </tbody>\n",
       "</table>\n",
       "</div><br />"
      ],
      "text/plain": [
       "                            Grouped by Survived                                                      \n",
       "                                        Missing           Overall                 0                 1\n",
       "n                                                             891               549               342\n",
       "Pclass, n (%)        1                        0        216 (24.2)         80 (14.6)        136 (39.8)\n",
       "                     2                                 184 (20.7)         97 (17.7)         87 (25.4)\n",
       "                     3                                 491 (55.1)        372 (67.8)        119 (34.8)\n",
       "Sex, n (%)           female                   0        314 (35.2)         81 (14.8)        233 (68.1)\n",
       "                     male                              577 (64.8)        468 (85.2)        109 (31.9)\n",
       "Age, median [Q1,Q3]                         177  28.0 [20.1,38.0]  28.0 [21.0,39.0]  28.0 [19.0,36.0]\n",
       "SibSp, n (%)         0                        0        608 (68.2)        398 (72.5)        210 (61.4)\n",
       "                     1                                 209 (23.5)         97 (17.7)        112 (32.7)\n",
       "                     2                                   28 (3.1)          15 (2.7)          13 (3.8)\n",
       "                     3                                   16 (1.8)          12 (2.2)           4 (1.2)\n",
       "                     4                                   18 (2.0)          15 (2.7)           3 (0.9)\n",
       "                     5                                    5 (0.6)           5 (0.9)                  \n",
       "                     8                                    7 (0.8)           7 (1.3)                  \n",
       "Parch, n (%)         0                        0        678 (76.1)        445 (81.1)        233 (68.1)\n",
       "                     1                                 118 (13.2)          53 (9.7)         65 (19.0)\n",
       "                     2                                   80 (9.0)          40 (7.3)         40 (11.7)\n",
       "                     3                                    5 (0.6)           2 (0.4)           3 (0.9)\n",
       "                     4                                    4 (0.4)           4 (0.7)                  \n",
       "                     5                                    5 (0.6)           4 (0.7)           1 (0.3)\n",
       "                     6                                    1 (0.1)           1 (0.2)                  \n",
       "Fare, median [Q1,Q3]                          0   14.5 [7.9,31.0]   10.5 [7.9,26.0]  26.0 [12.5,57.0]\n",
       "Embarked, n (%)      C                        2        168 (18.9)         75 (13.7)         93 (27.4)\n",
       "                     Q                                   77 (8.7)          47 (8.6)          30 (8.8)\n",
       "                     S                                 644 (72.4)        427 (77.8)        217 (63.8)\n",
       "Family, mean (SD)                             0         0.9 (1.6)         0.9 (1.8)         0.9 (1.2)"
      ]
     },
     "execution_count": 8,
     "metadata": {},
     "output_type": "execute_result"
    }
   ],
   "source": [
    "groupby = ['Survived']\n",
    "nonnormal = ['Age', 'Fare']\n",
    "limit = {\"Survived\": 1}\n",
    "\n",
    "table1 = TableOne(df_train.drop(['Name', 'Ticket', 'Cabin', 'PassengerId'], axis = 1), groupby=groupby, categorical = categorical, nonnormal=nonnormal, limit = limit)\n",
    "table1"
   ]
  },
  {
   "cell_type": "code",
   "execution_count": null,
   "metadata": {},
   "outputs": [],
   "source": []
  },
  {
   "cell_type": "markdown",
   "metadata": {},
   "source": [
    "## Analysis of TableOne\n",
    "\n",
    "We can notice some trends from this TableOne particularly, the associations of Pclass, Sex, Fare and Embarked with survival (outcome).\n",
    "The rest of the variables do not show strong association. \n",
    "\n",
    "1. Pclass\n",
    "* A larger proportion of first class passengers survived (2-1), as compared to second class passengers (roughly 1-1) and much better than third class passengers (roughly 1-2).\n",
    "* More than twice as many passengers died, as survived in third class (372 dead vs. 119 alive).\n",
    "\n",
    "2. Sex\n",
    "* Generally, females had a greater chance of surviving, seeing about only 1 death per 4 female passengers surviving.\n",
    "* The trend for males was the inverse, having a worse chance of surviving, seeing more than 4 deaths per 1 male passenger surviving. \n",
    "\n",
    "3. Fare\n",
    "* Fare is directly tied to passenger class. A higher fare generally implies a higher class of cabin. \n",
    "* Hence, we would see the fare distribution of surviving passengers to be much higher than the fare distribution of dead passengers.\n",
    "* This is indeed the case, as surviving passengers had an average fare of $26, more than twice the average fare of dead passengers ($10.5)\n",
    "* For the future correlation plot, we can expect to see strong correlations between Pclass, Fare and mortality.\n",
    "\n",
    "4. Family\n",
    "* Those with more than 1 family member were more likely to survive. If a passenger had no family, they were more likely to die than survive (68% vs. 47%)."
   ]
  },
  {
   "cell_type": "code",
   "execution_count": 9,
   "metadata": {},
   "outputs": [
    {
     "data": {
      "text/plain": [
       "<seaborn.axisgrid.PairGrid at 0x1f59e9cd090>"
      ]
     },
     "execution_count": 9,
     "metadata": {},
     "output_type": "execute_result"
    },
    {
     "data": {
      "image/png": "[encoded data removed]",
      "text/plain": [
       "<Figure size 411.875x360 with 6 Axes>"
      ]
     },
     "metadata": {
      "needs_background": "light"
     },
     "output_type": "display_data"
    }
   ],
   "source": [
    "sns.pairplot(data = df_train, x_vars=[\"Pclass\", \"Fare\"], y_vars=[\"Pclass\", \"Fare\"], hue = 'Survived', kind = 'kde')"
   ]
  },
  {
   "cell_type": "code",
   "execution_count": 10,
   "metadata": {},
   "outputs": [
    {
     "data": {
      "text/plain": [
       "<seaborn.axisgrid.FacetGrid at 0x1f59e9a6ad0>"
      ]
     },
     "execution_count": 10,
     "metadata": {},
     "output_type": "execute_result"
    },
    {
     "data": {
      "image/png": "[encoded data removed]",
      "text/plain": [
       "<Figure size 1131.88x360 with 3 Axes>"
      ]
     },
     "metadata": {
      "needs_background": "light"
     },
     "output_type": "display_data"
    }
   ],
   "source": [
    "sns.catplot(x=\"Sex\", hue=\"Survived\", col = \"Pclass\", data=df_train, kind = \"count\", )"
   ]
  },
  {
   "cell_type": "markdown",
   "metadata": {},
   "source": [
    "## Plots\n",
    "\n",
    "The plots show the same trends as TableOne.\n",
    "We can see that:\n",
    "* The relative proportion of surviving passengers is much higher for those in higher passenger classes, and lower fare.\n",
    "* A female passenger was more likely to survive, and this trend is seen across passenger classes. Only in third class, females were equally likely to die as survive. However, even then, the death rate of third class passengers is far greater comparatively."
   ]
  },
  {
   "cell_type": "code",
   "execution_count": 11,
   "metadata": {},
   "outputs": [],
   "source": [
    "## From our data\n"
   ]
  },
  {
   "cell_type": "code",
   "execution_count": 12,
   "metadata": {},
   "outputs": [],
   "source": [
    "X = df_train.drop(columns=[\"Survived\"], axis = 1)\n",
    "Y = df_train.loc[:,\"Survived\"]"
   ]
  },
  {
   "cell_type": "code",
   "execution_count": 13,
   "metadata": {},
   "outputs": [
    {
     "data": {
      "image/png": "[encoded data removed]",
      "text/plain": [
       "<Figure size 720x720 with 2 Axes>"
      ]
     },
     "metadata": {
      "needs_background": "light"
     },
     "output_type": "display_data"
    }
   ],
   "source": [
    "corrmat = df_train.corr(method = \"spearman\")\n",
    "mask = np.zeros_like(corrmat)\n",
    "mask[np.triu_indices_from(mask)] = True\n",
    "top_corr_features = corrmat.index\n",
    "plt.figure(figsize=(10,10))\n",
    "#plot heat map\n",
    "with sns.axes_style(\"white\"):\n",
    "    sns.heatmap(df_train[top_corr_features].corr(),annot=True,cmap=\"RdYlGn\", mask = mask)"
   ]
  },
  {
   "cell_type": "markdown",
   "metadata": {},
   "source": [
    "## Correlation Matrix\n",
    "\n",
    "From the correlation matrix we can see some important correlations between predictors:\n",
    "* Fare vs. Pclass: A higher fare is strongly negatively correlated with Pclass (-0.55). This is because a lower numerical Pclass is tied to a higher fare (Pclass 1 > 2 > 3). Both are tied to outcome (survival) with moderate correlations as well. \n",
    "* Age vs. Pclass: It seems that younger passengers were in third or second class, rather than first class. \n",
    "* Parch vs. SibSp: Those who had parents on-board were also more likely to have siblings on-board. \n",
    "* Survived vs. Fare vs. Pclass: The strongest correlations for the outcome are between fare price vs. survival and pclass vs. survival. \n",
    "* Sex: Sex is important as we have seen in the dataviz plots, but it is not possible to compute a correlation. Instead we can do a chi-square test.\n",
    "\n",
    "## Chi-Sq test for Sex"
   ]
  },
  {
   "cell_type": "code",
   "execution_count": 14,
   "metadata": {},
   "outputs": [
    {
     "data": {
      "text/html": [
       "<div>\n",
       "<style scoped>\n",
       "    .dataframe tbody tr th:only-of-type {\n",
       "        vertical-align: middle;\n",
       "    }\n",
       "\n",
       "    .dataframe tbody tr th {\n",
       "        vertical-align: top;\n",
       "    }\n",
       "\n",
       "    .dataframe thead th {\n",
       "        text-align: right;\n",
       "    }\n",
       "</style>\n",
       "<table border=\"1\" class=\"dataframe\">\n",
       "  <thead>\n",
       "    <tr style=\"text-align: right;\">\n",
       "      <th>Survived</th>\n",
       "      <th>0</th>\n",
       "      <th>1</th>\n",
       "    </tr>\n",
       "    <tr>\n",
       "      <th>Sex</th>\n",
       "      <th></th>\n",
       "      <th></th>\n",
       "    </tr>\n",
       "  </thead>\n",
       "  <tbody>\n",
       "    <tr>\n",
       "      <th>female</th>\n",
       "      <td>81</td>\n",
       "      <td>233</td>\n",
       "    </tr>\n",
       "    <tr>\n",
       "      <th>male</th>\n",
       "      <td>468</td>\n",
       "      <td>109</td>\n",
       "    </tr>\n",
       "  </tbody>\n",
       "</table>\n",
       "</div>"
      ],
      "text/plain": [
       "Survived    0    1\n",
       "Sex               \n",
       "female     81  233\n",
       "male      468  109"
      ]
     },
     "execution_count": 14,
     "metadata": {},
     "output_type": "execute_result"
    }
   ],
   "source": [
    "pd.crosstab(df_train['Sex'], df_train['Survived'])"
   ]
  },
  {
   "cell_type": "code",
   "execution_count": 15,
   "metadata": {},
   "outputs": [
    {
     "data": {
      "text/plain": [
       "(260.71702016732104,\n",
       " 1.1973570627755645e-58,\n",
       " 1,\n",
       " array([[193.47474747, 120.52525253],\n",
       "        [355.52525253, 221.47474747]]))"
      ]
     },
     "execution_count": 15,
     "metadata": {},
     "output_type": "execute_result"
    }
   ],
   "source": [
    "scipy.stats.chi2_contingency([[81, 233], [468, 109]])"
   ]
  },
  {
   "cell_type": "markdown",
   "metadata": {},
   "source": [
    "The result is extremely significant, showing that Sex has a direct impact on survival. "
   ]
  },
  {
   "cell_type": "markdown",
   "metadata": {},
   "source": [
    "## Conclusion:\n",
    "\n",
    "* Using basic data visualization, we have determined that Sex, Fare and Pclass are the most important predictors for mortality.\n",
    "* However, other variables will still be used in a nested CV approach in order not to exclude any variables that might contribute to variation.\n",
    "* Given our data visualization results, we should expect Sex, Fare and Pclass to be the most important predictors in our final model.\n",
    "* We should be cautious particularly about Fare and Age (due to non-normality)."
   ]
  }
 ],
 "metadata": {
  "kernelspec": {
   "display_name": "Python 3.10.4 64-bit",
   "language": "python",
   "name": "python3"
  },
  "language_info": {
   "codemirror_mode": {
    "name": "ipython",
    "version": 3
   },
   "file_extension": ".py",
   "mimetype": "text/x-python",
   "name": "python",
   "nbconvert_exporter": "python",
   "pygments_lexer": "ipython3",
   "version": "3.10.4"
  },
  "vscode": {
   "interpreter": {
    "hash": "5f1ce979722378d9d31360b3d8d00b5305ef65a7fc8f21c59f30073286bcb858"
   }
  }
 },
 "nbformat": 4,
 "nbformat_minor": 4
}
