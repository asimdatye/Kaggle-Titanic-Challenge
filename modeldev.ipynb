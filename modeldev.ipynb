{
 "cells": [
  {
   "cell_type": "code",
   "execution_count": 70,
   "metadata": {},
   "outputs": [
    {
     "name": "stdout",
     "output_type": "stream",
     "text": [
      "gender_submission.csv: Skipping, found more recently modified local copy (use --force to force download)\n",
      "train.csv: Skipping, found more recently modified local copy (use --force to force download)\n",
      "test.csv: Skipping, found more recently modified local copy (use --force to force download)\n",
      "[[91 15]\n",
      " [16 57]]\n",
      "              precision    recall  f1-score   support\n",
      "\n",
      "           0       0.85      0.86      0.85       106\n",
      "           1       0.79      0.78      0.79        73\n",
      "\n",
      "    accuracy                           0.83       179\n",
      "   macro avg       0.82      0.82      0.82       179\n",
      "weighted avg       0.83      0.83      0.83       179\n",
      "\n",
      "0.8268156424581006\n"
     ]
    }
   ],
   "source": [
    "import warnings\n",
    "warnings.filterwarnings('ignore')\n",
    "import seaborn as sns\n",
    "import scipy \n",
    "import statsmodels.api as sm\n",
    "import numpy as np\n",
    "import matplotlib.pyplot as plt\n",
    "from sklearn.tree import DecisionTreeClassifier\n",
    "import pandas as pd\n",
    "from sklearn import preprocessing\n",
    "from sklearn import tree\n",
    "from sklearn.metrics import classification_report, confusion_matrix, accuracy_score\n",
    "from sklearn.model_selection import train_test_split, cross_val_score\n",
    "from sklearn.linear_model import LogisticRegression\n",
    "\n",
    "from kaggle.api.kaggle_api_extended import KaggleApi\n",
    "\n",
    "api = KaggleApi()\n",
    "api.authenticate()\n",
    "\n",
    "# downloading from kaggle.com/c/sentiment-analysis-on-movie-reviews\n",
    "# there are two files, train.tsv.zip and test.tsv.zip\n",
    "# we write to the current directory with './'\n",
    "api.competition_download_file('titanic',\n",
    "                              'gender_submission.csv', path='./data/')\n",
    "api.competition_download_file('titanic',\n",
    "                              'train.csv', path='./data/')\n",
    "api.competition_download_file('titanic',\n",
    "                              'test.csv', path='./data/')\n",
    "\n",
    "df_train = pd.read_csv('data/train.csv')\n",
    "X = df_train.drop(['Survived'], axis = 1)\n",
    "y = df_train.Survived\n",
    "\n",
    "X = X.apply(preprocessing.LabelEncoder().fit_transform)\n",
    "\n",
    "X_train, X_test, y_train, y_test = train_test_split(X, y, test_size=0.20)\n",
    "\n",
    "# df_test = pd.read_csv('data/test.csv')\n",
    "\n",
    "model = DecisionTreeClassifier()\n",
    "fit = model.fit(X_train, y_train)\n",
    "\n",
    "y_pred = model.predict(X_test)\n",
    "\n",
    "print(confusion_matrix(y_test, y_pred))\n",
    "print(classification_report(y_test, y_pred))\n",
    "print(accuracy_score(y_test, y_pred, normalize = True))"
   ]
  },
  {
   "cell_type": "code",
   "execution_count": 71,
   "metadata": {},
   "outputs": [
    {
     "name": "stdout",
     "output_type": "stream",
     "text": [
      "Optimization terminated successfully.\n",
      "         Current function value: 0.461129\n",
      "         Iterations 6\n",
      "                           Logit Regression Results                           \n",
      "==============================================================================\n",
      "Dep. Variable:               Survived   No. Observations:                  712\n",
      "Model:                          Logit   Df Residuals:                      701\n",
      "Method:                           MLE   Df Model:                           10\n",
      "Date:                Sat, 23 Jul 2022   Pseudo R-squ.:                  0.3045\n",
      "Time:                        23:55:59   Log-Likelihood:                -328.32\n",
      "converged:                       True   LL-Null:                       -472.04\n",
      "Covariance Type:            nonrobust   LLR p-value:                 7.009e-56\n",
      "===============================================================================\n",
      "                  coef    std err          z      P>|z|      [0.025      0.975]\n",
      "-------------------------------------------------------------------------------\n",
      "PassengerId     0.0006      0.000      1.521      0.128      -0.000       0.001\n",
      "Pclass         -0.2250      0.204     -1.101      0.271      -0.625       0.175\n",
      "Name            0.0002      0.000      0.526      0.599      -0.001       0.001\n",
      "Sex            -2.4164      0.213    -11.329      0.000      -2.834      -1.998\n",
      "Age            -0.0109      0.004     -2.800      0.005      -0.019      -0.003\n",
      "SibSp          -0.4611      0.127     -3.621      0.000      -0.711      -0.212\n",
      "Parch          -0.3739      0.133     -2.821      0.005      -0.634      -0.114\n",
      "Ticket         -0.0009      0.001     -1.708      0.088      -0.002       0.000\n",
      "Fare            0.0124      0.002      5.998      0.000       0.008       0.016\n",
      "Cabin           0.0071      0.003      2.216      0.027       0.001       0.013\n",
      "Embarked       -0.1494      0.124     -1.209      0.227      -0.392       0.093\n",
      "===============================================================================\n"
     ]
    }
   ],
   "source": [
    "# logit = LogisticRegression(random_state=0).fit(X_train, y_train)\n",
    "# y_pred = logit.predict(X_test)\n",
    "\n",
    "logit_fit = sm.Logit(y_train, X_train).fit()\n",
    "\n",
    "print(logit_fit.summary())\n",
    "\n",
    "# print(confusion_matrix(y_test, y_pred))\n",
    "# print(classification_report(y_test, y_pred))\n",
    "# print(accuracy_score(y_test, y_pred, normalize = True))"
   ]
  }
 ],
 "metadata": {
  "kernelspec": {
   "display_name": "Python 3.10.4 64-bit",
   "language": "python",
   "name": "python3"
  },
  "language_info": {
   "codemirror_mode": {
    "name": "ipython",
    "version": 3
   },
   "file_extension": ".py",
   "mimetype": "text/x-python",
   "name": "python",
   "nbconvert_exporter": "python",
   "pygments_lexer": "ipython3",
   "version": "3.10.4"
  },
  "orig_nbformat": 4,
  "vscode": {
   "interpreter": {
    "hash": "5f1ce979722378d9d31360b3d8d00b5305ef65a7fc8f21c59f30073286bcb858"
   }
  }
 },
 "nbformat": 4,
 "nbformat_minor": 2
}
