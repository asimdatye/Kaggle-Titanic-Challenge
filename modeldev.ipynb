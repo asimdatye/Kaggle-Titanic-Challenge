{
 "cells": [
  {
   "cell_type": "code",
   "execution_count": 64,
   "metadata": {},
   "outputs": [
    {
     "name": "stdout",
     "output_type": "stream",
     "text": [
      "gender_submission.csv: Skipping, found more recently modified local copy (use --force to force download)\n",
      "train.csv: Skipping, found more recently modified local copy (use --force to force download)\n",
      "test.csv: Skipping, found more recently modified local copy (use --force to force download)\n",
      "[[85 22]\n",
      " [19 53]]\n",
      "              precision    recall  f1-score   support\n",
      "\n",
      "           0       0.82      0.79      0.81       107\n",
      "           1       0.71      0.74      0.72        72\n",
      "\n",
      "    accuracy                           0.77       179\n",
      "   macro avg       0.76      0.77      0.76       179\n",
      "weighted avg       0.77      0.77      0.77       179\n",
      "\n",
      "0.770949720670391\n"
     ]
    }
   ],
   "source": [
    "import warnings\n",
    "warnings.filterwarnings('ignore')\n",
    "import seaborn as sns\n",
    "import scipy \n",
    "import statsmodels.api as sm\n",
    "import numpy as np\n",
    "import matplotlib.pyplot as plt\n",
    "from sklearn.tree import DecisionTreeClassifier\n",
    "import pandas as pd\n",
    "from sklearn import preprocessing\n",
    "from sklearn import tree\n",
    "from sklearn.metrics import classification_report, confusion_matrix, accuracy_score\n",
    "from sklearn.model_selection import train_test_split\n",
    "from sklearn.linear_model import LogisticRegression\n",
    "\n",
    "from kaggle.api.kaggle_api_extended import KaggleApi\n",
    "\n",
    "api = KaggleApi()\n",
    "api.authenticate()\n",
    "\n",
    "# downloading from kaggle.com/c/sentiment-analysis-on-movie-reviews\n",
    "# there are two files, train.tsv.zip and test.tsv.zip\n",
    "# we write to the current directory with './'\n",
    "api.competition_download_file('titanic',\n",
    "                              'gender_submission.csv', path='./data/')\n",
    "api.competition_download_file('titanic',\n",
    "                              'train.csv', path='./data/')\n",
    "api.competition_download_file('titanic',\n",
    "                              'test.csv', path='./data/')\n",
    "\n",
    "df_train = pd.read_csv('data/train.csv')\n",
    "X = df_train.drop(['Survived'], axis = 1)\n",
    "y = df_train.Survived\n",
    "\n",
    "X = X.apply(preprocessing.LabelEncoder().fit_transform)\n",
    "\n",
    "X_train, X_test, y_train, y_test = train_test_split(X, y, test_size=0.20)\n",
    "\n",
    "# df_test = pd.read_csv('data/test.csv')\n",
    "\n",
    "model = DecisionTreeClassifier()\n",
    "fit = model.fit(X_train, y_train)\n",
    "\n",
    "y_pred = model.predict(X_test)\n",
    "\n",
    "print(confusion_matrix(y_test, y_pred))\n",
    "print(classification_report(y_test, y_pred))\n",
    "print(accuracy_score(y_test, y_pred, normalize = True))"
   ]
  },
  {
   "cell_type": "code",
   "execution_count": 69,
   "metadata": {},
   "outputs": [
    {
     "name": "stdout",
     "output_type": "stream",
     "text": [
      "Optimization terminated successfully.\n",
      "         Current function value: 0.449491\n",
      "         Iterations 6\n"
     ]
    },
    {
     "ename": "AttributeError",
     "evalue": "'Logit' object has no attribute 'summary'",
     "output_type": "error",
     "traceback": [
      "\u001b[1;31m---------------------------------------------------------------------------\u001b[0m",
      "\u001b[1;31mAttributeError\u001b[0m                            Traceback (most recent call last)",
      "\u001b[1;32mc:\\Users\\Asim\\Documents\\Github\\Kaggle-Titanic-Challenge\\modeldev.ipynb Cell 2\u001b[0m in \u001b[0;36m<cell line: 6>\u001b[1;34m()\u001b[0m\n\u001b[0;32m      <a href='vscode-notebook-cell:/c%3A/Users/Asim/Documents/Github/Kaggle-Titanic-Challenge/modeldev.ipynb#ch0000002?line=0'>1</a>\u001b[0m \u001b[39m# logit = LogisticRegression(random_state=0).fit(X_train, y_train)\u001b[39;00m\n\u001b[0;32m      <a href='vscode-notebook-cell:/c%3A/Users/Asim/Documents/Github/Kaggle-Titanic-Challenge/modeldev.ipynb#ch0000002?line=1'>2</a>\u001b[0m \u001b[39m# y_pred = logit.predict(X_test)\u001b[39;00m\n\u001b[0;32m      <a href='vscode-notebook-cell:/c%3A/Users/Asim/Documents/Github/Kaggle-Titanic-Challenge/modeldev.ipynb#ch0000002?line=3'>4</a>\u001b[0m logit_fit \u001b[39m=\u001b[39m sm\u001b[39m.\u001b[39mLogit(y_train, X_train)\u001b[39m.\u001b[39mfit()\n\u001b[1;32m----> <a href='vscode-notebook-cell:/c%3A/Users/Asim/Documents/Github/Kaggle-Titanic-Challenge/modeldev.ipynb#ch0000002?line=5'>6</a>\u001b[0m \u001b[39mprint\u001b[39m(logit_mod\u001b[39m.\u001b[39;49msummary())\n",
      "\u001b[1;31mAttributeError\u001b[0m: 'Logit' object has no attribute 'summary'"
     ]
    }
   ],
   "source": [
    "# logit = LogisticRegression(random_state=0).fit(X_train, y_train)\n",
    "# y_pred = logit.predict(X_test)\n",
    "\n",
    "logit_fit = sm.Logit(y_train, X_train).fit()\n",
    "\n",
    "print(logit_fit.summary())\n",
    "\n",
    "# print(confusion_matrix(y_test, y_pred))\n",
    "# print(classification_report(y_test, y_pred))\n",
    "# print(accuracy_score(y_test, y_pred, normalize = True))"
   ]
  }
 ],
 "metadata": {
  "kernelspec": {
   "display_name": "Python 3.10.4 64-bit",
   "language": "python",
   "name": "python3"
  },
  "language_info": {
   "codemirror_mode": {
    "name": "ipython",
    "version": 3
   },
   "file_extension": ".py",
   "mimetype": "text/x-python",
   "name": "python",
   "nbconvert_exporter": "python",
   "pygments_lexer": "ipython3",
   "version": "3.10.4"
  },
  "orig_nbformat": 4,
  "vscode": {
   "interpreter": {
    "hash": "5f1ce979722378d9d31360b3d8d00b5305ef65a7fc8f21c59f30073286bcb858"
   }
  }
 },
 "nbformat": 4,
 "nbformat_minor": 2
}
